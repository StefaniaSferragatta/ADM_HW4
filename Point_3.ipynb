{
 "cells": [
  {
   "cell_type": "markdown",
   "metadata": {},
   "source": [
    "## 3. Algorithmic question \n",
    "You are given an array with A with n integer numbers. \n",
    "\n",
    "- Let s = min{ A[1], ..., A[n] } and b = max { A[1], ..., A[n] }.\n",
    "- Let r = b - s \n",
    "\n",
    "Prove that we can sort A in time O(n + r)."
   ]
  },
  {
   "cell_type": "markdown",
   "metadata": {},
   "source": [
    "To sort the array A and show the run time complexity, we first provide a solution to the question in pseudocode, then we explain each step."
   ]
  },
  {
   "cell_type": "code",
   "execution_count": null,
   "metadata": {},
   "outputs": [],
   "source": [
    "PSEUDOCODE: \n",
    "\n",
    "function sort(A):\n",
    "   #Define the max and min element\n",
    "    max_ = A[0]\n",
    "    min_ = A[0] \n",
    "    n = length[A] #define the dimension of the input array\n",
    "    #This operation costs O(n)\n",
    "    for j= 0 to n do \n",
    "        if (A[j] > max_) then \n",
    "           max_ = A[j] \n",
    "        else if(A[j] < min_) then \n",
    "           min_ = A[j] \n",
    "    \n",
    "    r = max_ - min_ + 1\n",
    "    #This operation costs O(r)\n",
    "    for i = 0 to r do  #Define a new array C of dimention (max-min+1) -> C[0,r]\n",
    "        C[i] = 0    \n",
    "    \n",
    "    #This operation costs O(n)\n",
    "    for j = 0 to n do\n",
    "         C[A[j] - min_] = C[A[j] - min_] + 1  \n",
    "    \n",
    "    #This operation costs O(r)\n",
    "    for i = 0 to r do\n",
    "       C[i] = C[i] + C[i-1]\n",
    "    \n",
    "    #This operation costs O(n)\n",
    "    for j= n to 0 do\n",
    "        B[C[A[j]]]=A[j]\n",
    "        C[A[j]] = C[A[j]]-1 \n",
    "    return B[]"
   ]
  },
  {
   "cell_type": "markdown",
   "metadata": {},
   "source": [
    "For this solution we use three structure: A is the input array of dimention $[0..n]$ to sort, C is a supporting array of dimention $[0..r]$ that provides the 'temporary memory' of work and B is the output array that contains the sorted items of A, in fact it has dimention $[0..n]$. \\\n",
    "After defining the range between the maximum and minimum key values of the array A in the first for loop that costs $O(n)$, we initialize at 0 the array C in the second for loop that costs $O(r)$. \\\n",
    "Then we examinate each input item belonging to A in the third for loop that so costs again $O(n)$ and if the value of the input elemen is $i$ (index of the array C) then we increment $C[i]$. At the end of the loop $C[i]$ has the number of input elements equal to $i$ for each integer $i = 0...r$. \\\n",
    "Thereafter in the fourth for loop that costs $O(r)$, we determinate for each $i$ how many input elements are less or equal to $i$. \\\n",
    "The last step is to sort the array and for this purpose we define the structure B that will be the output of the algorithm. In the last for loop we insert the item $A[j]$  in the sorted position of the array B. We also compute the operation $C[A[j]] = C[A[j]]-1$ because the elements in input can be not unique, so we reduce the dimension of C each time the item is inserted into B, in this way if it exists a next input item with value equal to A[j] then it will be inserted into the previous position of $A[j]$ in the output array $B$. \\\n",
    "So at the end the running time of this sorting algorithm is linear in the number of items (n) and the difference between the maximum and minimum key values (r): it takes $O(n+r)$. \\\n",
    "Basically this is the pseoudocode and the explaination of the *Counting sort* algorithm, an algorithm that takes linear time to sort n values of a given array using as indeces the actual values of the array's items. \\\n",
    "The main source we used in order to complete this task is the book \"Introduction to Algorithms\" by Cormern, Leiserson, Rivest, and Stein."
   ]
  }
 ],
 "metadata": {
  "kernelspec": {
   "display_name": "Python 3.8.3 64-bit",
   "language": "python",
   "name": "python38364bit94c5337328b44c7690b65b46767ec790"
  },
  "language_info": {
   "codemirror_mode": {
    "name": "ipython",
    "version": 3
   },
   "file_extension": ".py",
   "mimetype": "text/x-python",
   "name": "python",
   "nbconvert_exporter": "python",
   "pygments_lexer": "ipython3",
   "version": "3.8.3"
  }
 },
 "nbformat": 4,
 "nbformat_minor": 4
}
