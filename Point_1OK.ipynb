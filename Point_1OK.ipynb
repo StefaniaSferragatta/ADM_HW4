{
 "cells": [
  {
   "cell_type": "markdown",
   "metadata": {},
   "source": [
    "### Hash function\n"
   ]
  },
  {
   "cell_type": "code",
   "execution_count": 1,
   "metadata": {},
   "outputs": [],
   "source": [
    "import time\n",
    "import numpy as np\n",
    "import random "
   ]
  },
  {
   "cell_type": "code",
   "execution_count": 2,
   "metadata": {},
   "outputs": [],
   "source": [
    "def hash_fun(string):\n",
    "    m=2**32\n",
    "    hash_= 7\n",
    "    for i in range(len(string)):\n",
    "        x = encoding(string[i])\n",
    "        hash_=((hash_*23))+x\n",
    "    hash_=hash_%m #to avoid overflow\n",
    "    binary = bin(hash_)[2:]\n",
    "    str_binary = str(binary)\n",
    "    return str_binary"
   ]
  },
  {
   "cell_type": "code",
   "execution_count": 3,
   "metadata": {},
   "outputs": [],
   "source": [
    "def encoding(string):\n",
    "    s=0\n",
    "    for char in string:\n",
    "        s+=ord(char) #convert each str into ASCII char\n",
    "    return s"
   ]
  },
  {
   "cell_type": "markdown",
   "metadata": {},
   "source": [
    "### Hyperloglog\n",
    "\n",
    "### Add item to the buckets: \n",
    "The add operation consists of computing the hash of the input data v with a hash function h, getting the first b bits (where b is ${\\textstyle \\log _{2}(m)}$), and adding 1 to them to obtain the address of the register to modify. With the remaining bits compute ${\\textstyle \\rho (w)}$ which returns the position of the leftmost 1. The new value of the register will be the maximum between the current value of the register and ${\\textstyle \\rho (w)}$."
   ]
  },
  {
   "cell_type": "code",
   "execution_count": 4,
   "metadata": {},
   "outputs": [],
   "source": [
    "def leftmost_zeros(string):\n",
    "    maximum=0\n",
    "    temp=0\n",
    "    for i in range(len(string)):\n",
    "        if string[i]==\"0\":\n",
    "            temp+=1\n",
    "        else:\n",
    "            maximum=temp\n",
    "            break\n",
    "    return maximum"
   ]
  },
  {
   "cell_type": "code",
   "execution_count": 5,
   "metadata": {},
   "outputs": [],
   "source": [
    "def hll(file):\n",
    "    length_file = 139000000     \n",
    "    f = open(file, \"r\") #open the file\n",
    "    n=13\n",
    "    m = 2**n\n",
    "    #initialize the buckets\n",
    "    buckets = [0 for x in range (m)]\n",
    "    #for each rows in the file\n",
    "    for row in range(0,length_file):\n",
    "        #read one line at time\n",
    "        line = f.readline(row).strip()\n",
    "        #compute the hash function on it and save the value in digit\n",
    "        digit = hash_fun(line) \n",
    "        if len(digit)<32: #filling with zeros in order to obtain digit of 32 bit\n",
    "            digit = '0'*(32-len(digit))+digit\n",
    "             \n",
    "        #add items to the buckets\n",
    "        j = int(digit[:n],2) \n",
    "        w=digit[n:] \n",
    "        buckets[j]=max(buckets[j],leftmost_zeros(w))\n",
    "           \n",
    "    #computing cardinality \n",
    "    alfa = 0.7213/(1+1.079/(2**n))\n",
    "    Z=0\n",
    "    for i in range(len(buckets)):\n",
    "        Z+=2**(-buckets[i]-1)\n",
    "    Z=Z**(-1)\n",
    "    E = alfa*(m)**2*Z \n",
    "    return (E)"
   ]
  },
  {
   "cell_type": "markdown",
   "metadata": {},
   "source": [
    "### Cardinality of the hyperloglog:\n",
    "\n",
    "The cardinality of the hyperloglog is given by:\n",
    "${\\displaystyle E=\\alpha _{m}m^{2}Z}$ \n",
    "\n",
    "\n",
    "Where Z is: \n",
    "${\\displaystyle Z={\\Bigg (}\\sum _{j=1}^{m}{2^{-M[j]}}{\\Bigg )}^{-1}}$ \n",
    "\n",
    "\n",
    "and $\\alpha _{m}$ (for $m>=128$) is: $0.7213/(1+1.079/(2^{m}))$"
   ]
  },
  {
   "cell_type": "code",
   "execution_count": 6,
   "metadata": {},
   "outputs": [
    {
     "name": "stdout",
     "output_type": "stream",
     "text": [
      "Cardinality:  121891579.94193806\n"
     ]
    }
   ],
   "source": [
    "file = \"hash.txt\" \n",
    "card = hll(file)\n",
    "print('Cardinality: ', card)"
   ]
  },
  {
   "cell_type": "markdown",
   "metadata": {},
   "source": [
    "### Error of the hyperloglog:\n",
    "In order to see the error of our hyperloglog we can compare the value of distinct elements in the file hash.txt and the obtained cardinality."
   ]
  },
  {
   "cell_type": "code",
   "execution_count": 10,
   "metadata": {},
   "outputs": [
    {
     "name": "stdout",
     "output_type": "stream",
     "text": [
      "Error:  490166786610.74164\n"
     ]
    }
   ],
   "source": [
    "real_len = 125000001 # obtained with set()\n",
    "#error = (real_len-card/real_len)*100\n",
    "error = real_len/(abs(real_len-card)/card)*100\n",
    "print('Error: ',error)"
   ]
  }
 ],
 "metadata": {
  "kernelspec": {
   "display_name": "Python 3",
   "language": "python",
   "name": "python3"
  },
  "language_info": {
   "codemirror_mode": {
    "name": "ipython",
    "version": 3
   },
   "file_extension": ".py",
   "mimetype": "text/x-python",
   "name": "python",
   "nbconvert_exporter": "python",
   "pygments_lexer": "ipython3",
   "version": "3.8.3"
  }
 },
 "nbformat": 4,
 "nbformat_minor": 4
}
