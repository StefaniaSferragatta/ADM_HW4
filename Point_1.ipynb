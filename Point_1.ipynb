{
 "cells": [
  {
   "cell_type": "markdown",
   "metadata": {},
   "source": [
    "## 1. Hashing\n",
    "\n",
    "-----------------------------------------------------------------------------------"
   ]
  },
  {
   "cell_type": "code",
   "execution_count": 1,
   "metadata": {},
   "outputs": [],
   "source": [
    "import numpy as np\n",
    "import matplotlib.pyplot as plt"
   ]
  },
  {
   "cell_type": "markdown",
   "metadata": {},
   "source": [
    "With the hash_function define below we map strings to a 32 bits vector in order to obtain a uniform distribution across the number of requests. "
   ]
  },
  {
   "cell_type": "code",
   "execution_count": 2,
   "metadata": {},
   "outputs": [],
   "source": [
    "def hash_function(string):\n",
    "    m=2**32\n",
    "    hash_= 7\n",
    "    for i in range(len(string)):\n",
    "        x = encoding(string[i])\n",
    "        hash_=((hash_*31))+x\n",
    "    hash_=hash_%m \n",
    "    binary = bin(hash_)[2:]\n",
    "    str_binary = str(binary)\n",
    "    return str_binary"
   ]
  },
  {
   "cell_type": "markdown",
   "metadata": {},
   "source": [
    "On each char of the input string, such as a line of the file,we apply the ecoding before computing the hashing.\n",
    "With this function we convert each item of the string into an ASCII char."
   ]
  },
  {
   "cell_type": "code",
   "execution_count": 3,
   "metadata": {},
   "outputs": [],
   "source": [
    "def encoding(string):\n",
    "    s=0\n",
    "    for char in string:\n",
    "        s+=ord(char) \n",
    "    return s"
   ]
  },
  {
   "cell_type": "markdown",
   "metadata": {},
   "source": [
    "-----------------------------------------------------------------------------------------------------\n",
    "\n",
    "## Hyperloglog\n",
    "Now we use the Hyperloglog structure to store our binary codes. To remove the effects of outliers, and to lower the variance, HyperLogLog splits the input into several subsets called “buckets”. Then for each buckets the estimates are combined using an harmonic mean to deduce an estimate of the cardinality for the entire set. The implementation we provide is an Hyperloglog 13-bit since our m is $2^{13}$.\n",
    "\n",
    "\n",
    "### Add item to the buckets: \n",
    "One of the supported operation on this data structure is to **add** items.\n",
    "It consists of computing the hash each line in the file with the hash_function define above, getting the first n bits (where n is ${\\log_{2}(m)}$) to obtain the address of the bucket to modify. With the remaining bits we compute ${\\rho(w)}$ which returns the position of the leftmost 1, computed with the below function **max_zeros**.\n",
    "\n",
    "The new value of the register will be the maximum between the current value of the register and ${\\rho(w)}$."
   ]
  },
  {
   "cell_type": "code",
   "execution_count": 4,
   "metadata": {},
   "outputs": [],
   "source": [
    "def max_zeros(string):\n",
    "    maximum = 0\n",
    "    while string[maximum] == '0' :\n",
    "        maximum+=1\n",
    "        if len(string[maximum:]) == 0:\n",
    "            break\n",
    "    return maximum"
   ]
  },
  {
   "cell_type": "markdown",
   "metadata": {},
   "source": [
    "Assuming that the output of our hash is for example hash(input)=101101110110111001100011010110100. We use the leftmost n=13 bits to find the bucket index, so **1011011101101**11001100011010110100 tells us which bucket to update. \n",
    "\n",
    "```\n",
    "j = int(digit[:n],2)\n",
    "``` \n",
    "\n",
    "\n",
    "From the remaining, 1011011101101**11001100011010110100** we extract the longest run of consecutive 0s from the rightmost bits and they are used to find the bucket number. \n",
    "\n",
    "``` \n",
    "w = digit[n:]  \n",
    "```"
   ]
  },
  {
   "cell_type": "code",
   "execution_count": 5,
   "metadata": {},
   "outputs": [],
   "source": [
    "def hyperloglog(file):\n",
    "    #the input file has 139000000 lines\n",
    "    length_file = 139000000    \n",
    "    #open the file\n",
    "    f = open(file, \"r\") \n",
    "    n=13\n",
    "    m = 2**n\n",
    "    #initialize the buckets\n",
    "    buckets = [0 for x in range (m)]\n",
    "    #for each rows in the file 'hash.txt'\n",
    "    for row in range(0,length_file):\n",
    "        #read one line at time\n",
    "        line = f.readline(row).strip()\n",
    "        \n",
    "        #compute the hash function on it and save the value in digit\n",
    "        digit = hash_function(line) \n",
    "        \n",
    "        #filling with zeros in order to obtain digit of 32 bit\n",
    "        if len(digit)<32: \n",
    "            digit = '0'*(32-len(digit))+digit\n",
    "             \n",
    "        #add items to the buckets\n",
    "        j = int(digit[:n],2) \n",
    "        w=digit[n:] \n",
    "        #If the number of leftmost zeros for the i-th element is x and it is higher than the max x generated, \n",
    "        #then x is stored as the new max value for that bucket.\n",
    "        buckets[j]=max(buckets[j],max_zeros(w))\n",
    "    \n",
    "    #print the buckets distribution\n",
    "    plt.hist(buckets,color='c')\n",
    "    plt.title('Distribution of the items in the buckets')\n",
    "    \n",
    "    #computing cardinality \n",
    "    cardinality = card(buckets,m)\n",
    "    return (cardinality)"
   ]
  },
  {
   "cell_type": "markdown",
   "metadata": {},
   "source": [
    "### Cardinality of the hyperloglog:\n",
    "\n",
    "The cardinality of the hyperloglog is given by:\n",
    "${\\displaystyle E=\\alpha _{m}m^{2}Z}$ \n",
    "\n",
    "\n",
    "Where Z is: \n",
    "${\\displaystyle Z={\\Bigg (}\\sum _{j=1}^{m}{2^{-M[j]}}{\\Bigg )}^{-1}}$ \n",
    "\n",
    "\n",
    "and $\\alpha _{m}$ (for $m>=128$) is: $0.7213/(1+1.079/(2^{m}))$"
   ]
  },
  {
   "cell_type": "code",
   "execution_count": 6,
   "metadata": {},
   "outputs": [],
   "source": [
    "def card(buckets,m):\n",
    "    alfa = 0.7213/(1+1.079/(m))\n",
    "    Z=0\n",
    "    for i in range(len(buckets)):\n",
    "        Z+=2**(-buckets[i]-1)\n",
    "    Z=Z**(-1)\n",
    "    E = alfa*(m**2)*Z \n",
    "    return (E)"
   ]
  },
  {
   "cell_type": "markdown",
   "metadata": {},
   "source": [
    "The file hash.txt on which we estimate the cardinality has 139000000 lines. We don't provide this information by code just to avoid to save anything in memory, in fact also the hyperloglog is done row by row by **opening the file in read-only mode**.\n",
    "\n",
    "So please notice that this implementation works only on the file provided in the assignment, or at least on the file that has the same exactly dimention."
   ]
  },
  {
   "cell_type": "code",
   "execution_count": 7,
   "metadata": {},
   "outputs": [
    {
     "name": "stdout",
     "output_type": "stream",
     "text": [
      "Cardinality:  124506981.32603604\n"
     ]
    },
    {
     "data": {
      "image/png": "[encoded data removed]",
      "text/plain": [
       "<Figure size 432x288 with 1 Axes>"
      ]
     },
     "metadata": {
      "needs_background": "light"
     },
     "output_type": "display_data"
    }
   ],
   "source": [
    "file = \"hash.txt\" \n",
    "card = hyperloglog(file)\n",
    "print('Cardinality: ', card)"
   ]
  },
  {
   "cell_type": "markdown",
   "metadata": {},
   "source": [
    "### Error of the hyperloglog:\n",
    "In order to see the error of our hyperloglog we can compare the value of distinct elements in the file hash.txt and the obtained cardinality."
   ]
  },
  {
   "cell_type": "code",
   "execution_count": 8,
   "metadata": {},
   "outputs": [],
   "source": [
    "def error(cardinality):\n",
    "    real_len = 125000001 # obtained with set(file)\n",
    "    error = round(((real_len-card)/real_len)*100,2)\n",
    "    return error"
   ]
  },
  {
   "cell_type": "code",
   "execution_count": 9,
   "metadata": {
    "scrolled": true
   },
   "outputs": [
    {
     "name": "stdout",
     "output_type": "stream",
     "text": [
      "Error:  0.39 %\n"
     ]
    }
   ],
   "source": [
    "err = error(card)\n",
    "print('Error: ',err,'%')"
   ]
  },
  {
   "cell_type": "markdown",
   "metadata": {},
   "source": [
    "The standard error of the algorithm is given instead by the formula:  $1.04/\\sqrt{m}$"
   ]
  },
  {
   "cell_type": "code",
   "execution_count": 10,
   "metadata": {},
   "outputs": [
    {
     "name": "stdout",
     "output_type": "stream",
     "text": [
      "Standard error:  0.0115 %\n"
     ]
    }
   ],
   "source": [
    "m=2**13\n",
    "std_error = round(1.04/np.sqrt(m),4)\n",
    "print('Standard error: ',std_error,'%')"
   ]
  },
  {
   "cell_type": "markdown",
   "metadata": {},
   "source": [
    "As we can see our error is not significantly dissimilar to the SE and so we can conclude that the result we provide is pretty much accurate."
   ]
  }
 ],
 "metadata": {
  "kernelspec": {
   "display_name": "Python 3",
   "language": "python",
   "name": "python3"
  },
  "language_info": {
   "codemirror_mode": {
    "name": "ipython",
    "version": 3
   },
   "file_extension": ".py",
   "mimetype": "text/x-python",
   "name": "python",
   "nbconvert_exporter": "python",
   "pygments_lexer": "ipython3",
   "version": "3.8.3"
  }
 },
 "nbformat": 4,
 "nbformat_minor": 4
}
