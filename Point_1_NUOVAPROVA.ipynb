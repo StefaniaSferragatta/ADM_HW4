{
 "cells": [
  {
   "cell_type": "code",
   "execution_count": 31,
   "metadata": {},
   "outputs": [],
   "source": [
    "import time\n",
    "import numpy as np"
   ]
  },
  {
   "cell_type": "markdown",
   "metadata": {},
   "source": [
    "### Hash function"
   ]
  },
  {
   "cell_type": "code",
   "execution_count": 19,
   "metadata": {},
   "outputs": [],
   "source": [
    "def hash_fun(string):\n",
    "    m = 32582657 \n",
    "    chunck_s = [string[0:8],string[8:16],string[16:24],string[24:32]] #Since each line is 32 longs, we split it into four parts of 8\n",
    "    r=[2,17,4,32]\n",
    "    h=0\n",
    "    for i in range(len(chunck_s)):\n",
    "        x = encoding(chunck_s[i]) #invoke the encoding function to convert each str into ASCII char\n",
    "        h += (int(x)*r[i])%m #compute the hashing\n",
    "    binary = bin(h)[2:] #make binary the result\n",
    "    str_binary = str(binary)\n",
    "    return (str_binary,h) #return the obtained vector of str"
   ]
  },
  {
   "cell_type": "code",
   "execution_count": 20,
   "metadata": {},
   "outputs": [],
   "source": [
    "def encoding(string):\n",
    "    s=0\n",
    "    for char in string:\n",
    "        s+=ord(char) #convert each str into ASCII char\n",
    "    return s"
   ]
  },
  {
   "cell_type": "markdown",
   "metadata": {},
   "source": [
    "### Hyperloglog"
   ]
  },
  {
   "cell_type": "code",
   "execution_count": 42,
   "metadata": {},
   "outputs": [],
   "source": [
    "def leftmost_zeros(bin_dig):\n",
    "    i=1\n",
    "    while bin_dig[-i]==0 and i<len(bin_dig):\n",
    "        i+=1\n",
    "    return i"
   ]
  },
  {
   "cell_type": "code",
   "execution_count": 43,
   "metadata": {},
   "outputs": [],
   "source": [
    "def hll(file):\n",
    "    n = 12\n",
    "    m = 2**n\n",
    "    length_file = 100000 #139000000 file intero\n",
    "    #initialization of the buckets\n",
    "    buckets = [0 for x in range (m)]\n",
    "    f = open(file, \"r\") #open the file\n",
    "    #for each rows in the file\n",
    "    for row in range(35,length_file):\n",
    "        #read one line at time\n",
    "        line = f.readline(row) \n",
    "        #compute the hash function on it\n",
    "        digit = hash_fun(line) \n",
    "        #add zeros to obtain 32 bit\n",
    "        digit_32 = '0'*4+digit[0]+'0'*(28-len(digit[0])) \n",
    "        \n",
    "        #add items to the buckets\n",
    "        j = 1+int(digit_32[:n-1],2)\n",
    "        w=digit_32[n:]\n",
    "        buckets[j]=max(buckets[j],leftmost_zeros(w))\n",
    "           \n",
    "    #computing cardinality \n",
    "    alfa = 0.7213/(1+1.079/(2**n))\n",
    "    Z=0\n",
    "    for i in buckets:\n",
    "        Z+=2**(-buckets[i]-1)\n",
    "    Z=Z**(-1)\n",
    "    E = alfa*(m)**2*Z #cardinality\n",
    "    return (E)"
   ]
  },
  {
   "cell_type": "markdown",
   "metadata": {},
   "source": [
    "### Read the file and save the length"
   ]
  },
  {
   "cell_type": "code",
   "execution_count": 6,
   "metadata": {},
   "outputs": [
    {
     "name": "stdout",
     "output_type": "stream",
     "text": [
      "100000\n"
     ]
    }
   ],
   "source": [
    "file = \"small_hash.txt\" #smaller file\n",
    "#file = \"hash.txt\" #smaller file\n",
    "def read_file(file_red):\n",
    "    with open(file_red) as f:\n",
    "        lines = f.read().splitlines()\n",
    "    n_lines = len(lines)\n",
    "    return (n_lines)\n",
    "\n",
    "length_file= read_file(file) #save the dimension of the file\n",
    "print(length_file)\n",
    "# 139000000 file intero"
   ]
  },
  {
   "cell_type": "markdown",
   "metadata": {},
   "source": [
    "### Compute cardinality"
   ]
  },
  {
   "cell_type": "code",
   "execution_count": 44,
   "metadata": {},
   "outputs": [
    {
     "name": "stdout",
     "output_type": "stream",
     "text": [
      "Execution time is: 0.259  seconds\n",
      "Cardinality:  5908.0546426109995\n"
     ]
    }
   ],
   "source": [
    "start = time.time()\n",
    "card = hll(file)#,length_file)\n",
    "end = time.time()\n",
    "\n",
    "print('Execution time is:',round(end-start,3), ' seconds' )\n",
    "print('Cardinality: ', card)"
   ]
  },
  {
   "cell_type": "markdown",
   "metadata": {},
   "source": [
    "### Compute error"
   ]
  },
  {
   "cell_type": "code",
   "execution_count": null,
   "metadata": {},
   "outputs": [],
   "source": [
    "#print('Loglog: ', np.log(np.log(card)))\n",
    "real_len = 125000001 # obtained with set()\n",
    "error = real_len/(abs(real_len-card)/card)*100\n",
    "print('Error: ',error)"
   ]
  }
 ],
 "metadata": {
  "kernelspec": {
   "display_name": "Python 3.8.3 64-bit",
   "language": "python",
   "name": "python38364bit94c5337328b44c7690b65b46767ec790"
  },
  "language_info": {
   "codemirror_mode": {
    "name": "ipython",
    "version": 3
   },
   "file_extension": ".py",
   "mimetype": "text/x-python",
   "name": "python",
   "nbconvert_exporter": "python",
   "pygments_lexer": "ipython3",
   "version": "3.8.3"
  }
 },
 "nbformat": 4,
 "nbformat_minor": 4
}
